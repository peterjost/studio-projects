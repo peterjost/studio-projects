{
 "cells": [
  {
   "cell_type": "markdown",
   "metadata": {
    "collapsed": true
   },
   "source": [
    "# National anthems - a comparison"
   ]
  },
  {
   "cell_type": "code",
   "execution_count": 2,
   "metadata": {
    "collapsed": true
   },
   "outputs": [],
   "source": [
    "import pandas as pd\n",
    "%matplotlib inline\n",
    "import matplotlib.pyplot as plt\n",
    "import numpy as np"
   ]
  },
  {
   "cell_type": "markdown",
   "metadata": {},
   "source": [
    "Loading in the dataset"
   ]
  },
  {
   "cell_type": "code",
   "execution_count": 3,
   "metadata": {
    "scrolled": true
   },
   "outputs": [
    {
     "data": {
      "text/html": [
       "<div>\n",
       "<style>\n",
       "    .dataframe thead tr:only-child th {\n",
       "        text-align: right;\n",
       "    }\n",
       "\n",
       "    .dataframe thead th {\n",
       "        text-align: left;\n",
       "    }\n",
       "\n",
       "    .dataframe tbody tr th {\n",
       "        vertical-align: top;\n",
       "    }\n",
       "</style>\n",
       "<table border=\"1\" class=\"dataframe\">\n",
       "  <thead>\n",
       "    <tr style=\"text-align: right;\">\n",
       "      <th></th>\n",
       "      <th>country</th>\n",
       "      <th>name</th>\n",
       "      <th>firstname</th>\n",
       "      <th>position</th>\n",
       "      <th>team</th>\n",
       "      <th>games</th>\n",
       "      <th>goals</th>\n",
       "      <th>assists</th>\n",
       "      <th>points</th>\n",
       "      <th>dollar_salary</th>\n",
       "      <th>dollar_point</th>\n",
       "    </tr>\n",
       "  </thead>\n",
       "  <tbody>\n",
       "    <tr>\n",
       "      <th>0</th>\n",
       "      <td>CAN</td>\n",
       "      <td>McDavid</td>\n",
       "      <td>Connor</td>\n",
       "      <td>C</td>\n",
       "      <td>EDM</td>\n",
       "      <td>82</td>\n",
       "      <td>30</td>\n",
       "      <td>70</td>\n",
       "      <td>100</td>\n",
       "      <td>925000</td>\n",
       "      <td>9250</td>\n",
       "    </tr>\n",
       "    <tr>\n",
       "      <th>1</th>\n",
       "      <td>SWE</td>\n",
       "      <td>Arvidsson</td>\n",
       "      <td>Viktor</td>\n",
       "      <td>LW/RW</td>\n",
       "      <td>NSH</td>\n",
       "      <td>80</td>\n",
       "      <td>31</td>\n",
       "      <td>30</td>\n",
       "      <td>61</td>\n",
       "      <td>640000</td>\n",
       "      <td>10355</td>\n",
       "    </tr>\n",
       "    <tr>\n",
       "      <th>2</th>\n",
       "      <td>RUS</td>\n",
       "      <td>Panarin</td>\n",
       "      <td>Artemi</td>\n",
       "      <td>LW/C</td>\n",
       "      <td>CHI</td>\n",
       "      <td>82</td>\n",
       "      <td>31</td>\n",
       "      <td>43</td>\n",
       "      <td>74</td>\n",
       "      <td>925000</td>\n",
       "      <td>10980</td>\n",
       "    </tr>\n",
       "    <tr>\n",
       "      <th>3</th>\n",
       "      <td>DEU</td>\n",
       "      <td>Draisaitl</td>\n",
       "      <td>Leon</td>\n",
       "      <td>C</td>\n",
       "      <td>EDM</td>\n",
       "      <td>82</td>\n",
       "      <td>29</td>\n",
       "      <td>48</td>\n",
       "      <td>77</td>\n",
       "      <td>925000</td>\n",
       "      <td>12013</td>\n",
       "    </tr>\n",
       "    <tr>\n",
       "      <th>4</th>\n",
       "      <td>USA</td>\n",
       "      <td>Sheary</td>\n",
       "      <td>Conor</td>\n",
       "      <td>LW</td>\n",
       "      <td>PIT</td>\n",
       "      <td>61</td>\n",
       "      <td>23</td>\n",
       "      <td>30</td>\n",
       "      <td>53</td>\n",
       "      <td>667500</td>\n",
       "      <td>12594</td>\n",
       "    </tr>\n",
       "    <tr>\n",
       "      <th>5</th>\n",
       "      <td>CAN</td>\n",
       "      <td>Gagner</td>\n",
       "      <td>Sam</td>\n",
       "      <td>C/RW</td>\n",
       "      <td>CBJ</td>\n",
       "      <td>81</td>\n",
       "      <td>18</td>\n",
       "      <td>32</td>\n",
       "      <td>50</td>\n",
       "      <td>650000</td>\n",
       "      <td>13000</td>\n",
       "    </tr>\n",
       "    <tr>\n",
       "      <th>6</th>\n",
       "      <td>CZE</td>\n",
       "      <td>Pastrnak</td>\n",
       "      <td>David</td>\n",
       "      <td>RW/LW</td>\n",
       "      <td>BOS</td>\n",
       "      <td>75</td>\n",
       "      <td>34</td>\n",
       "      <td>36</td>\n",
       "      <td>70</td>\n",
       "      <td>925000</td>\n",
       "      <td>13214</td>\n",
       "    </tr>\n",
       "    <tr>\n",
       "      <th>7</th>\n",
       "      <td>USA</td>\n",
       "      <td>Matthews</td>\n",
       "      <td>Auston</td>\n",
       "      <td>C</td>\n",
       "      <td>TOR</td>\n",
       "      <td>82</td>\n",
       "      <td>40</td>\n",
       "      <td>29</td>\n",
       "      <td>69</td>\n",
       "      <td>925000</td>\n",
       "      <td>13406</td>\n",
       "    </tr>\n",
       "    <tr>\n",
       "      <th>8</th>\n",
       "      <td>DNK</td>\n",
       "      <td>Ehlers</td>\n",
       "      <td>Nikolaj</td>\n",
       "      <td>LW</td>\n",
       "      <td>WPG</td>\n",
       "      <td>82</td>\n",
       "      <td>25</td>\n",
       "      <td>39</td>\n",
       "      <td>64</td>\n",
       "      <td>925000</td>\n",
       "      <td>13971</td>\n",
       "    </tr>\n",
       "    <tr>\n",
       "      <th>9</th>\n",
       "      <td>FIN</td>\n",
       "      <td>Laine</td>\n",
       "      <td>Patrik</td>\n",
       "      <td>RW</td>\n",
       "      <td>WPG</td>\n",
       "      <td>73</td>\n",
       "      <td>36</td>\n",
       "      <td>28</td>\n",
       "      <td>64</td>\n",
       "      <td>925000</td>\n",
       "      <td>14453</td>\n",
       "    </tr>\n",
       "  </tbody>\n",
       "</table>\n",
       "</div>"
      ],
      "text/plain": [
       "  country       name firstname position team  games  goals  assists  points  \\\n",
       "0     CAN    McDavid    Connor        C  EDM     82     30       70     100   \n",
       "1     SWE  Arvidsson    Viktor    LW/RW  NSH     80     31       30      61   \n",
       "2     RUS    Panarin    Artemi     LW/C  CHI     82     31       43      74   \n",
       "3     DEU  Draisaitl      Leon        C  EDM     82     29       48      77   \n",
       "4     USA     Sheary     Conor       LW  PIT     61     23       30      53   \n",
       "5     CAN     Gagner       Sam     C/RW  CBJ     81     18       32      50   \n",
       "6     CZE   Pastrnak     David    RW/LW  BOS     75     34       36      70   \n",
       "7     USA   Matthews    Auston        C  TOR     82     40       29      69   \n",
       "8     DNK     Ehlers   Nikolaj       LW  WPG     82     25       39      64   \n",
       "9     FIN      Laine    Patrik       RW  WPG     73     36       28      64   \n",
       "\n",
       "   dollar_salary  dollar_point  \n",
       "0         925000          9250  \n",
       "1         640000         10355  \n",
       "2         925000         10980  \n",
       "3         925000         12013  \n",
       "4         667500         12594  \n",
       "5         650000         13000  \n",
       "6         925000         13214  \n",
       "7         925000         13406  \n",
       "8         925000         13971  \n",
       "9         925000         14453  "
      ]
     },
     "execution_count": 3,
     "metadata": {},
     "output_type": "execute_result"
    }
   ],
   "source": [
    "df = pd.read_csv(\"/Users/peterjost/Downloads/studio-projects/code/NHL_underpayed_players/dollar_points.csv\")\n",
    "df.head(10)"
   ]
  },
  {
   "cell_type": "code",
   "execution_count": 4,
   "metadata": {},
   "outputs": [
    {
     "data": {
      "text/plain": [
       "country          object\n",
       "name             object\n",
       "firstname        object\n",
       "position         object\n",
       "team             object\n",
       "games             int64\n",
       "goals             int64\n",
       "assists           int64\n",
       "points            int64\n",
       "dollar_salary     int64\n",
       "dollar_point      int64\n",
       "dtype: object"
      ]
     },
     "execution_count": 4,
     "metadata": {},
     "output_type": "execute_result"
    }
   ],
   "source": [
    "df.dtypes"
   ]
  },
  {
   "cell_type": "code",
   "execution_count": 5,
   "metadata": {},
   "outputs": [
    {
     "data": {
      "text/plain": [
       "<matplotlib.axes._subplots.AxesSubplot at 0x10c247358>"
      ]
     },
     "execution_count": 5,
     "metadata": {},
     "output_type": "execute_result"
    },
    {
     "data": {
      "image/png": "[encoded data removed]",
      "text/plain": [
       "<matplotlib.figure.Figure at 0x10fcaccf8>"
      ]
     },
     "metadata": {},
     "output_type": "display_data"
    }
   ],
   "source": [
    "df.head(10).plot(x='name', y='dollar_point', kind='bar', color='darkgreen')"
   ]
  },
  {
   "cell_type": "code",
   "execution_count": 6,
   "metadata": {},
   "outputs": [
    {
     "data": {
      "text/plain": [
       "<matplotlib.axes._subplots.AxesSubplot at 0x10fe17208>"
      ]
     },
     "execution_count": 6,
     "metadata": {},
     "output_type": "execute_result"
    },
    {
     "data": {
      "image/png": "[encoded data removed]",
      "text/plain": [
       "<matplotlib.figure.Figure at 0x10fed1be0>"
      ]
     },
     "metadata": {},
     "output_type": "display_data"
    }
   ],
   "source": [
    "df.sort_values(by=\"points\", ascending=False).head(10).plot(x='name', y='points', kind='bar', color='darkgreen')"
   ]
  },
  {
   "cell_type": "code",
   "execution_count": 18,
   "metadata": {},
   "outputs": [
    {
     "data": {
      "text/html": [
       "<div>\n",
       "<style>\n",
       "    .dataframe thead tr:only-child th {\n",
       "        text-align: right;\n",
       "    }\n",
       "\n",
       "    .dataframe thead th {\n",
       "        text-align: left;\n",
       "    }\n",
       "\n",
       "    .dataframe tbody tr th {\n",
       "        vertical-align: top;\n",
       "    }\n",
       "</style>\n",
       "<table border=\"1\" class=\"dataframe\">\n",
       "  <thead>\n",
       "    <tr style=\"text-align: right;\">\n",
       "      <th></th>\n",
       "      <th>country</th>\n",
       "      <th>name</th>\n",
       "      <th>firstname</th>\n",
       "      <th>position</th>\n",
       "      <th>team</th>\n",
       "      <th>games</th>\n",
       "      <th>goals</th>\n",
       "      <th>assists</th>\n",
       "      <th>points</th>\n",
       "      <th>dollar_salary</th>\n",
       "      <th>dollar_point</th>\n",
       "    </tr>\n",
       "  </thead>\n",
       "  <tbody>\n",
       "    <tr>\n",
       "      <th>761</th>\n",
       "      <td>USA</td>\n",
       "      <td>Lashoff</td>\n",
       "      <td>Brian</td>\n",
       "      <td>D</td>\n",
       "      <td>DET</td>\n",
       "      <td>5</td>\n",
       "      <td>0</td>\n",
       "      <td>0</td>\n",
       "      <td>0</td>\n",
       "      <td>650000</td>\n",
       "      <td>650000</td>\n",
       "    </tr>\n",
       "    <tr>\n",
       "      <th>763</th>\n",
       "      <td>USA</td>\n",
       "      <td>McCormick</td>\n",
       "      <td>Max</td>\n",
       "      <td>RW/LW/C</td>\n",
       "      <td>OTT</td>\n",
       "      <td>7</td>\n",
       "      <td>0</td>\n",
       "      <td>0</td>\n",
       "      <td>0</td>\n",
       "      <td>650000</td>\n",
       "      <td>650000</td>\n",
       "    </tr>\n",
       "    <tr>\n",
       "      <th>774</th>\n",
       "      <td>CAN</td>\n",
       "      <td>Johnston</td>\n",
       "      <td>Ryan</td>\n",
       "      <td>D</td>\n",
       "      <td>MTL</td>\n",
       "      <td>7</td>\n",
       "      <td>0</td>\n",
       "      <td>0</td>\n",
       "      <td>0</td>\n",
       "      <td>692500</td>\n",
       "      <td>680000</td>\n",
       "    </tr>\n",
       "    <tr>\n",
       "      <th>764</th>\n",
       "      <td>USA</td>\n",
       "      <td>Nelson</td>\n",
       "      <td>Casey</td>\n",
       "      <td>D</td>\n",
       "      <td>BUF</td>\n",
       "      <td>11</td>\n",
       "      <td>0</td>\n",
       "      <td>0</td>\n",
       "      <td>0</td>\n",
       "      <td>650000</td>\n",
       "      <td>650000</td>\n",
       "    </tr>\n",
       "    <tr>\n",
       "      <th>765</th>\n",
       "      <td>CAN</td>\n",
       "      <td>Harpur</td>\n",
       "      <td>Ben</td>\n",
       "      <td>D</td>\n",
       "      <td>OTT</td>\n",
       "      <td>6</td>\n",
       "      <td>0</td>\n",
       "      <td>0</td>\n",
       "      <td>0</td>\n",
       "      <td>655000</td>\n",
       "      <td>653333</td>\n",
       "    </tr>\n",
       "    <tr>\n",
       "      <th>766</th>\n",
       "      <td>CAN</td>\n",
       "      <td>Lernout</td>\n",
       "      <td>Brett</td>\n",
       "      <td>D</td>\n",
       "      <td>MTL</td>\n",
       "      <td>2</td>\n",
       "      <td>0</td>\n",
       "      <td>0</td>\n",
       "      <td>0</td>\n",
       "      <td>660000</td>\n",
       "      <td>653333</td>\n",
       "    </tr>\n",
       "    <tr>\n",
       "      <th>768</th>\n",
       "      <td>CAN</td>\n",
       "      <td>Bertuzzi</td>\n",
       "      <td>Tyler</td>\n",
       "      <td>LW</td>\n",
       "      <td>DET</td>\n",
       "      <td>7</td>\n",
       "      <td>0</td>\n",
       "      <td>0</td>\n",
       "      <td>0</td>\n",
       "      <td>667500</td>\n",
       "      <td>661667</td>\n",
       "    </tr>\n",
       "    <tr>\n",
       "      <th>772</th>\n",
       "      <td>CAN</td>\n",
       "      <td>Carrier</td>\n",
       "      <td>Alex</td>\n",
       "      <td>D</td>\n",
       "      <td>NSH</td>\n",
       "      <td>2</td>\n",
       "      <td>0</td>\n",
       "      <td>0</td>\n",
       "      <td>0</td>\n",
       "      <td>640000</td>\n",
       "      <td>668333</td>\n",
       "    </tr>\n",
       "    <tr>\n",
       "      <th>773</th>\n",
       "      <td>CAN</td>\n",
       "      <td>Paul</td>\n",
       "      <td>Nick</td>\n",
       "      <td>LW/C</td>\n",
       "      <td>OTT</td>\n",
       "      <td>1</td>\n",
       "      <td>0</td>\n",
       "      <td>0</td>\n",
       "      <td>0</td>\n",
       "      <td>692500</td>\n",
       "      <td>670000</td>\n",
       "    </tr>\n",
       "    <tr>\n",
       "      <th>873</th>\n",
       "      <td>CAN</td>\n",
       "      <td>MacArthur</td>\n",
       "      <td>Clarke</td>\n",
       "      <td>LW</td>\n",
       "      <td>OTT</td>\n",
       "      <td>4</td>\n",
       "      <td>0</td>\n",
       "      <td>0</td>\n",
       "      <td>0</td>\n",
       "      <td>4500000</td>\n",
       "      <td>4650000</td>\n",
       "    </tr>\n",
       "  </tbody>\n",
       "</table>\n",
       "</div>"
      ],
      "text/plain": [
       "    country       name firstname position team  games  goals  assists  points  \\\n",
       "761     USA    Lashoff     Brian        D  DET      5      0        0       0   \n",
       "763     USA  McCormick       Max  RW/LW/C  OTT      7      0        0       0   \n",
       "774     CAN   Johnston      Ryan        D  MTL      7      0        0       0   \n",
       "764     USA     Nelson     Casey        D  BUF     11      0        0       0   \n",
       "765     CAN     Harpur       Ben        D  OTT      6      0        0       0   \n",
       "766     CAN    Lernout     Brett        D  MTL      2      0        0       0   \n",
       "768     CAN   Bertuzzi     Tyler       LW  DET      7      0        0       0   \n",
       "772     CAN    Carrier      Alex        D  NSH      2      0        0       0   \n",
       "773     CAN       Paul      Nick     LW/C  OTT      1      0        0       0   \n",
       "873     CAN  MacArthur    Clarke       LW  OTT      4      0        0       0   \n",
       "\n",
       "     dollar_salary  dollar_point  \n",
       "761         650000        650000  \n",
       "763         650000        650000  \n",
       "774         692500        680000  \n",
       "764         650000        650000  \n",
       "765         655000        653333  \n",
       "766         660000        653333  \n",
       "768         667500        661667  \n",
       "772         640000        668333  \n",
       "773         692500        670000  \n",
       "873        4500000       4650000  "
      ]
     },
     "execution_count": 18,
     "metadata": {},
     "output_type": "execute_result"
    }
   ],
   "source": [
    "df.sort_values(by=\"points\", ascending=False).tail(10)"
   ]
  },
  {
   "cell_type": "code",
   "execution_count": 10,
   "metadata": {},
   "outputs": [
    {
     "data": {
      "text/plain": [
       "<matplotlib.axes._subplots.AxesSubplot at 0x10cd48cc0>"
      ]
     },
     "execution_count": 10,
     "metadata": {},
     "output_type": "execute_result"
    },
    {
     "data": {
      "image/png": "[encoded data removed]",
      "text/plain": [
       "<matplotlib.figure.Figure at 0x11007fcc0>"
      ]
     },
     "metadata": {},
     "output_type": "display_data"
    }
   ],
   "source": [
    "df.sort_values(by='dollar_point', ascending=False).head(10).plot(x='name', kind='bar', title='Blablabla')  "
   ]
  },
  {
   "cell_type": "code",
   "execution_count": 19,
   "metadata": {},
   "outputs": [
    {
     "data": {
      "image/png": "[encoded data removed]",
      "text/plain": [
       "<matplotlib.figure.Figure at 0x11040b550>"
      ]
     },
     "metadata": {},
     "output_type": "display_data"
    }
   ],
   "source": [
    "df.plot(x='points', y='dollar_salary', style='o', figsize=(20,10), title='NHL Players / salary in million vs. points').invert_xaxis()"
   ]
  },
  {
   "cell_type": "markdown",
   "metadata": {
    "collapsed": true
   },
   "source": [
    "Importing the wordcloud file"
   ]
  },
  {
   "cell_type": "code",
   "execution_count": null,
   "metadata": {
    "collapsed": true
   },
   "outputs": [],
   "source": []
  }
 ],
 "metadata": {
  "kernelspec": {
   "display_name": "Python 3",
   "language": "python",
   "name": "python3"
  },
  "language_info": {
   "codemirror_mode": {
    "name": "ipython",
    "version": 3
   },
   "file_extension": ".py",
   "mimetype": "text/x-python",
   "name": "python",
   "nbconvert_exporter": "python",
   "pygments_lexer": "ipython3",
   "version": "3.6.1"
  }
 },
 "nbformat": 4,
 "nbformat_minor": 2
}
