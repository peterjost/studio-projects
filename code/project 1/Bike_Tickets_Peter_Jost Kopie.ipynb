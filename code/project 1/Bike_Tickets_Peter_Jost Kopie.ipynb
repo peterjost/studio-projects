{
 "cells": [
  {
   "cell_type": "markdown",
   "metadata": {},
   "source": [
    "# Bike Tickets Notebook"
   ]
  },
  {
   "cell_type": "markdown",
   "metadata": {},
   "source": [
    "(with data from https://www.muckrock.com/foi/chicago-169/bike-tickets-arrest-38464/)\n",
    "\n"
   ]
  },
  {
   "cell_type": "code",
   "execution_count": 16,
   "metadata": {
    "collapsed": true
   },
   "outputs": [],
   "source": [
    "import pandas as pd\n",
    "import numpy as np\n",
    "%matplotlib inline\n",
    "df = pd.read_excel('/Users/peterjost/Downloads/15-Homework/Bike Tickets/P062407_joint.xlsx', skiprows=6)"
   ]
  },
  {
   "cell_type": "code",
   "execution_count": 17,
   "metadata": {},
   "outputs": [
    {
     "data": {
      "text/html": [
       "<div>\n",
       "<style>\n",
       "    .dataframe thead tr:only-child th {\n",
       "        text-align: right;\n",
       "    }\n",
       "\n",
       "    .dataframe thead th {\n",
       "        text-align: left;\n",
       "    }\n",
       "\n",
       "    .dataframe tbody tr th {\n",
       "        vertical-align: top;\n",
       "    }\n",
       "</style>\n",
       "<table border=\"1\" class=\"dataframe\">\n",
       "  <thead>\n",
       "    <tr style=\"text-align: right;\">\n",
       "      <th></th>\n",
       "      <th>ANOV Issue Date</th>\n",
       "      <th>Street No</th>\n",
       "      <th>Street Direction</th>\n",
       "      <th>Street Name</th>\n",
       "      <th>ANOV Number</th>\n",
       "      <th>Violation Description</th>\n",
       "      <th>Unnamed: 6</th>\n",
       "      <th>Age</th>\n",
       "    </tr>\n",
       "  </thead>\n",
       "  <tbody>\n",
       "    <tr>\n",
       "      <th>0</th>\n",
       "      <td>9-Jun-12</td>\n",
       "      <td>23XX</td>\n",
       "      <td>N</td>\n",
       "      <td>MANGO</td>\n",
       "      <td>P003284926</td>\n",
       "      <td>9-52-020</td>\n",
       "      <td>Riding bicycles on sidewalks and certain roadway</td>\n",
       "      <td>24</td>\n",
       "    </tr>\n",
       "    <tr>\n",
       "      <th>1</th>\n",
       "      <td>9-Jun-12</td>\n",
       "      <td>27XX</td>\n",
       "      <td>W</td>\n",
       "      <td>CERMAK</td>\n",
       "      <td>P003043958</td>\n",
       "      <td>9-52-020</td>\n",
       "      <td>Riding bicycles on sidewalks and certain roadway</td>\n",
       "      <td>28</td>\n",
       "    </tr>\n",
       "    <tr>\n",
       "      <th>2</th>\n",
       "      <td>9-Jun-12</td>\n",
       "      <td>34XX</td>\n",
       "      <td>W</td>\n",
       "      <td>BEACH ST</td>\n",
       "      <td>P003227315</td>\n",
       "      <td>9-52-020</td>\n",
       "      <td>Riding bicycles on sidewalks and certain roadway</td>\n",
       "      <td>28</td>\n",
       "    </tr>\n",
       "    <tr>\n",
       "      <th>3</th>\n",
       "      <td>9-Jun-12</td>\n",
       "      <td>61XX</td>\n",
       "      <td>N</td>\n",
       "      <td>SHERIDAN</td>\n",
       "      <td>P003133404</td>\n",
       "      <td>9-52-020</td>\n",
       "      <td>Riding bicycles on sidewalks and certain roadway</td>\n",
       "      <td>34</td>\n",
       "    </tr>\n",
       "    <tr>\n",
       "      <th>4</th>\n",
       "      <td>9-Jun-12</td>\n",
       "      <td>61XX</td>\n",
       "      <td>N</td>\n",
       "      <td>SHERIDAN</td>\n",
       "      <td>P003133953</td>\n",
       "      <td>9-52-020</td>\n",
       "      <td>Riding bicycles on sidewalks and certain roadway</td>\n",
       "      <td>28</td>\n",
       "    </tr>\n",
       "  </tbody>\n",
       "</table>\n",
       "</div>"
      ],
      "text/plain": [
       "  ANOV Issue Date Street No Street Direction Street Name ANOV Number  \\\n",
       "0        9-Jun-12      23XX                N       MANGO  P003284926   \n",
       "1        9-Jun-12      27XX                W      CERMAK  P003043958   \n",
       "2        9-Jun-12      34XX                W    BEACH ST  P003227315   \n",
       "3        9-Jun-12      61XX                N    SHERIDAN  P003133404   \n",
       "4        9-Jun-12      61XX                N    SHERIDAN  P003133953   \n",
       "\n",
       "  Violation Description                                        Unnamed: 6 Age  \n",
       "0              9-52-020  Riding bicycles on sidewalks and certain roadway  24  \n",
       "1              9-52-020  Riding bicycles on sidewalks and certain roadway  28  \n",
       "2              9-52-020  Riding bicycles on sidewalks and certain roadway  28  \n",
       "3              9-52-020  Riding bicycles on sidewalks and certain roadway  34  \n",
       "4              9-52-020  Riding bicycles on sidewalks and certain roadway  28  "
      ]
     },
     "execution_count": 17,
     "metadata": {},
     "output_type": "execute_result"
    }
   ],
   "source": [
    "df.head()"
   ]
  },
  {
   "cell_type": "code",
   "execution_count": 18,
   "metadata": {},
   "outputs": [
    {
     "data": {
      "text/plain": [
       "(17920, 8)"
      ]
     },
     "execution_count": 18,
     "metadata": {},
     "output_type": "execute_result"
    }
   ],
   "source": [
    "df.shape"
   ]
  },
  {
   "cell_type": "code",
   "execution_count": 19,
   "metadata": {},
   "outputs": [
    {
     "data": {
      "text/plain": [
       "Research and Analysis Section        164\n",
       "City of Chicago                      164\n",
       "ANOV Issue Date                      164\n",
       "Research and Development Division    164\n",
       "Bicycle Related ANOVs                164\n",
       "Chicago Police Department            164\n",
       "09 June 2012 - 08 June 2017          164\n",
       "30-Jul-14                             56\n",
       "7-Jul-14                              45\n",
       "9-Sep-14                              40\n",
       "18-Aug-14                             39\n",
       "18-Jul-14                             37\n",
       "9-Jun-14                              35\n",
       "5-Aug-14                              35\n",
       "4-Aug-14                              34\n",
       "24-Jul-14                             33\n",
       "13-Aug-14                             33\n",
       "27-Aug-14                             33\n",
       "22-Jul-14                             33\n",
       "6-Oct-15                              32\n",
       "1-Jun-14                              30\n",
       "22-Sep-14                             30\n",
       "10-Sep-14                             30\n",
       "9-Sep-15                              30\n",
       "2-May-16                              30\n",
       "22-Aug-16                             30\n",
       "28-Aug-14                             29\n",
       "17-Aug-14                             29\n",
       "15-Aug-14                             29\n",
       "12-Aug-14                             29\n",
       "                                    ... \n",
       "10-Feb-14                              1\n",
       "12-Jun-12                              1\n",
       "3-Feb-14                               1\n",
       "24-Nov-15                              1\n",
       "14-Dec-15                              1\n",
       "13-Apr-13                              1\n",
       "5-Feb-13                               1\n",
       "11-Nov-12                              1\n",
       "1-Jan-14                               1\n",
       "15-Dec-16                              1\n",
       "11-Jan-15                              1\n",
       "11-Jul-12                              1\n",
       "14-Dec-12                              1\n",
       "25-Dec-16                              1\n",
       "9-Aug-12                               1\n",
       "24-Jan-14                              1\n",
       "5-Dec-16                               1\n",
       "19-Dec-13                              1\n",
       "28-Feb-15                              1\n",
       "20-Dec-13                              1\n",
       "16-Dec-13                              1\n",
       "2-Feb-15                               1\n",
       "7-Feb-13                               1\n",
       "28-Jan-14                              1\n",
       "29-Nov-13                              1\n",
       "6-Nov-12                               1\n",
       "4-Mar-14                               1\n",
       "29-Nov-12                              1\n",
       "1-Jan-13                               1\n",
       "20-Jan-14                              1\n",
       "Name: ANOV Issue Date, Length: 1767, dtype: int64"
      ]
     },
     "execution_count": 19,
     "metadata": {},
     "output_type": "execute_result"
    }
   ],
   "source": [
    "df['ANOV Issue Date'].value_counts()"
   ]
  },
  {
   "cell_type": "code",
   "execution_count": 20,
   "metadata": {
    "collapsed": true
   },
   "outputs": [],
   "source": [
    "#doing some cleaning\n",
    "df['ANOV Issue Date'].replace('09 June 2012 - 08 June 2017', np.nan, inplace=True)\n",
    "df['ANOV Issue Date'].replace('Bicycle Related ANOVs', np.nan, inplace=True)\n",
    "df['ANOV Issue Date'].replace('Research and Development Division', np.nan, inplace=True)\n",
    "df['ANOV Issue Date'].replace('ANOV Issue Date', np.nan, inplace=True)\n",
    "df['ANOV Issue Date'].replace('City of Chicago', np.nan, inplace=True)\n",
    "df['ANOV Issue Date'].replace('Research and Analysis Section', np.nan, inplace=True)\n",
    "df['ANOV Issue Date'].replace('Chicago Police Department', np.nan, inplace=True)"
   ]
  },
  {
   "cell_type": "code",
   "execution_count": 21,
   "metadata": {},
   "outputs": [
    {
     "data": {
      "text/plain": [
       "30-Jul-14    56\n",
       "7-Jul-14     45\n",
       "9-Sep-14     40\n",
       "18-Aug-14    39\n",
       "18-Jul-14    37\n",
       "5-Aug-14     35\n",
       "9-Jun-14     35\n",
       "4-Aug-14     34\n",
       "22-Jul-14    33\n",
       "27-Aug-14    33\n",
       "13-Aug-14    33\n",
       "24-Jul-14    33\n",
       "6-Oct-15     32\n",
       "1-Jun-14     30\n",
       "10-Sep-14    30\n",
       "9-Sep-15     30\n",
       "22-Sep-14    30\n",
       "2-May-16     30\n",
       "22-Aug-16    30\n",
       "15-Aug-14    29\n",
       "17-Aug-14    29\n",
       "28-Aug-14    29\n",
       "12-Aug-14    29\n",
       "22-Aug-14    28\n",
       "24-May-16    28\n",
       "19-Jan-17    28\n",
       "5-Jul-16     28\n",
       "30-Oct-14    28\n",
       "26-Aug-14    27\n",
       "6-Aug-14     27\n",
       "             ..\n",
       "13-Jun-12     1\n",
       "19-Dec-13     1\n",
       "1-Mar-13      1\n",
       "20-Jan-14     1\n",
       "12-Jun-12     1\n",
       "23-Mar-15     1\n",
       "6-Mar-15      1\n",
       "2-Feb-14      1\n",
       "19-Feb-15     1\n",
       "13-Apr-13     1\n",
       "5-Dec-16      1\n",
       "15-Jul-12     1\n",
       "9-Jun-15      1\n",
       "5-Feb-15      1\n",
       "12-Jan-16     1\n",
       "7-Feb-13      1\n",
       "5-Nov-12      1\n",
       "26-Feb-13     1\n",
       "28-Jun-12     1\n",
       "13-Aug-12     1\n",
       "20-Dec-13     1\n",
       "6-Jan-13      1\n",
       "15-Feb-14     1\n",
       "16-Mar-13     1\n",
       "2-Feb-15      1\n",
       "19-Feb-13     1\n",
       "2-Mar-15      1\n",
       "24-Nov-16     1\n",
       "12-Jan-13     1\n",
       "1-Feb-14      1\n",
       "Name: ANOV Issue Date, Length: 1760, dtype: int64"
      ]
     },
     "execution_count": 21,
     "metadata": {},
     "output_type": "execute_result"
    }
   ],
   "source": [
    "df['ANOV Issue Date'].value_counts()"
   ]
  },
  {
   "cell_type": "code",
   "execution_count": 22,
   "metadata": {},
   "outputs": [
    {
     "data": {
      "text/html": [
       "<div>\n",
       "<style>\n",
       "    .dataframe thead tr:only-child th {\n",
       "        text-align: right;\n",
       "    }\n",
       "\n",
       "    .dataframe thead th {\n",
       "        text-align: left;\n",
       "    }\n",
       "\n",
       "    .dataframe tbody tr th {\n",
       "        vertical-align: top;\n",
       "    }\n",
       "</style>\n",
       "<table border=\"1\" class=\"dataframe\">\n",
       "  <thead>\n",
       "    <tr style=\"text-align: right;\">\n",
       "      <th></th>\n",
       "      <th>ANOV Issue Date</th>\n",
       "      <th>Street No</th>\n",
       "      <th>Street Direction</th>\n",
       "      <th>Street Name</th>\n",
       "      <th>ANOV Number</th>\n",
       "      <th>Violation Description</th>\n",
       "      <th>Unnamed: 6</th>\n",
       "      <th>Age</th>\n",
       "    </tr>\n",
       "  </thead>\n",
       "  <tbody>\n",
       "    <tr>\n",
       "      <th>0</th>\n",
       "      <td>9-Jun-12</td>\n",
       "      <td>23XX</td>\n",
       "      <td>N</td>\n",
       "      <td>MANGO</td>\n",
       "      <td>P003284926</td>\n",
       "      <td>9-52-020</td>\n",
       "      <td>Riding bicycles on sidewalks and certain roadway</td>\n",
       "      <td>24</td>\n",
       "    </tr>\n",
       "    <tr>\n",
       "      <th>1</th>\n",
       "      <td>9-Jun-12</td>\n",
       "      <td>27XX</td>\n",
       "      <td>W</td>\n",
       "      <td>CERMAK</td>\n",
       "      <td>P003043958</td>\n",
       "      <td>9-52-020</td>\n",
       "      <td>Riding bicycles on sidewalks and certain roadway</td>\n",
       "      <td>28</td>\n",
       "    </tr>\n",
       "    <tr>\n",
       "      <th>2</th>\n",
       "      <td>9-Jun-12</td>\n",
       "      <td>34XX</td>\n",
       "      <td>W</td>\n",
       "      <td>BEACH ST</td>\n",
       "      <td>P003227315</td>\n",
       "      <td>9-52-020</td>\n",
       "      <td>Riding bicycles on sidewalks and certain roadway</td>\n",
       "      <td>28</td>\n",
       "    </tr>\n",
       "    <tr>\n",
       "      <th>3</th>\n",
       "      <td>9-Jun-12</td>\n",
       "      <td>61XX</td>\n",
       "      <td>N</td>\n",
       "      <td>SHERIDAN</td>\n",
       "      <td>P003133404</td>\n",
       "      <td>9-52-020</td>\n",
       "      <td>Riding bicycles on sidewalks and certain roadway</td>\n",
       "      <td>34</td>\n",
       "    </tr>\n",
       "    <tr>\n",
       "      <th>4</th>\n",
       "      <td>9-Jun-12</td>\n",
       "      <td>61XX</td>\n",
       "      <td>N</td>\n",
       "      <td>SHERIDAN</td>\n",
       "      <td>P003133953</td>\n",
       "      <td>9-52-020</td>\n",
       "      <td>Riding bicycles on sidewalks and certain roadway</td>\n",
       "      <td>28</td>\n",
       "    </tr>\n",
       "  </tbody>\n",
       "</table>\n",
       "</div>"
      ],
      "text/plain": [
       "  ANOV Issue Date Street No Street Direction Street Name ANOV Number  \\\n",
       "0        9-Jun-12      23XX                N       MANGO  P003284926   \n",
       "1        9-Jun-12      27XX                W      CERMAK  P003043958   \n",
       "2        9-Jun-12      34XX                W    BEACH ST  P003227315   \n",
       "3        9-Jun-12      61XX                N    SHERIDAN  P003133404   \n",
       "4        9-Jun-12      61XX                N    SHERIDAN  P003133953   \n",
       "\n",
       "  Violation Description                                        Unnamed: 6 Age  \n",
       "0              9-52-020  Riding bicycles on sidewalks and certain roadway  24  \n",
       "1              9-52-020  Riding bicycles on sidewalks and certain roadway  28  \n",
       "2              9-52-020  Riding bicycles on sidewalks and certain roadway  28  \n",
       "3              9-52-020  Riding bicycles on sidewalks and certain roadway  34  \n",
       "4              9-52-020  Riding bicycles on sidewalks and certain roadway  28  "
      ]
     },
     "execution_count": 22,
     "metadata": {},
     "output_type": "execute_result"
    }
   ],
   "source": [
    "df.head()"
   ]
  },
  {
   "cell_type": "code",
   "execution_count": 23,
   "metadata": {},
   "outputs": [
    {
     "data": {
      "text/html": [
       "<div>\n",
       "<style>\n",
       "    .dataframe thead tr:only-child th {\n",
       "        text-align: right;\n",
       "    }\n",
       "\n",
       "    .dataframe thead th {\n",
       "        text-align: left;\n",
       "    }\n",
       "\n",
       "    .dataframe tbody tr th {\n",
       "        vertical-align: top;\n",
       "    }\n",
       "</style>\n",
       "<table border=\"1\" class=\"dataframe\">\n",
       "  <thead>\n",
       "    <tr style=\"text-align: right;\">\n",
       "      <th></th>\n",
       "      <th>ANOV Issue Date</th>\n",
       "      <th>Street No</th>\n",
       "      <th>Street Direction</th>\n",
       "      <th>Street Name</th>\n",
       "      <th>ANOV Number</th>\n",
       "      <th>Violation Description</th>\n",
       "      <th>Violation</th>\n",
       "      <th>Age</th>\n",
       "    </tr>\n",
       "  </thead>\n",
       "  <tbody>\n",
       "    <tr>\n",
       "      <th>0</th>\n",
       "      <td>9-Jun-12</td>\n",
       "      <td>23XX</td>\n",
       "      <td>N</td>\n",
       "      <td>MANGO</td>\n",
       "      <td>P003284926</td>\n",
       "      <td>9-52-020</td>\n",
       "      <td>Riding bicycles on sidewalks and certain roadway</td>\n",
       "      <td>24</td>\n",
       "    </tr>\n",
       "    <tr>\n",
       "      <th>1</th>\n",
       "      <td>9-Jun-12</td>\n",
       "      <td>27XX</td>\n",
       "      <td>W</td>\n",
       "      <td>CERMAK</td>\n",
       "      <td>P003043958</td>\n",
       "      <td>9-52-020</td>\n",
       "      <td>Riding bicycles on sidewalks and certain roadway</td>\n",
       "      <td>28</td>\n",
       "    </tr>\n",
       "    <tr>\n",
       "      <th>2</th>\n",
       "      <td>9-Jun-12</td>\n",
       "      <td>34XX</td>\n",
       "      <td>W</td>\n",
       "      <td>BEACH ST</td>\n",
       "      <td>P003227315</td>\n",
       "      <td>9-52-020</td>\n",
       "      <td>Riding bicycles on sidewalks and certain roadway</td>\n",
       "      <td>28</td>\n",
       "    </tr>\n",
       "    <tr>\n",
       "      <th>3</th>\n",
       "      <td>9-Jun-12</td>\n",
       "      <td>61XX</td>\n",
       "      <td>N</td>\n",
       "      <td>SHERIDAN</td>\n",
       "      <td>P003133404</td>\n",
       "      <td>9-52-020</td>\n",
       "      <td>Riding bicycles on sidewalks and certain roadway</td>\n",
       "      <td>34</td>\n",
       "    </tr>\n",
       "    <tr>\n",
       "      <th>4</th>\n",
       "      <td>9-Jun-12</td>\n",
       "      <td>61XX</td>\n",
       "      <td>N</td>\n",
       "      <td>SHERIDAN</td>\n",
       "      <td>P003133953</td>\n",
       "      <td>9-52-020</td>\n",
       "      <td>Riding bicycles on sidewalks and certain roadway</td>\n",
       "      <td>28</td>\n",
       "    </tr>\n",
       "  </tbody>\n",
       "</table>\n",
       "</div>"
      ],
      "text/plain": [
       "  ANOV Issue Date Street No Street Direction Street Name ANOV Number  \\\n",
       "0        9-Jun-12      23XX                N       MANGO  P003284926   \n",
       "1        9-Jun-12      27XX                W      CERMAK  P003043958   \n",
       "2        9-Jun-12      34XX                W    BEACH ST  P003227315   \n",
       "3        9-Jun-12      61XX                N    SHERIDAN  P003133404   \n",
       "4        9-Jun-12      61XX                N    SHERIDAN  P003133953   \n",
       "\n",
       "  Violation Description                                         Violation Age  \n",
       "0              9-52-020  Riding bicycles on sidewalks and certain roadway  24  \n",
       "1              9-52-020  Riding bicycles on sidewalks and certain roadway  28  \n",
       "2              9-52-020  Riding bicycles on sidewalks and certain roadway  28  \n",
       "3              9-52-020  Riding bicycles on sidewalks and certain roadway  34  \n",
       "4              9-52-020  Riding bicycles on sidewalks and certain roadway  28  "
      ]
     },
     "execution_count": 23,
     "metadata": {},
     "output_type": "execute_result"
    }
   ],
   "source": [
    "#rename unnamed column into 'violation'\n",
    "\n",
    "df = df.rename(columns={'Unnamed: 6': 'Violation'})\n",
    "df.head()"
   ]
  },
  {
   "cell_type": "code",
   "execution_count": 24,
   "metadata": {
    "scrolled": true
   },
   "outputs": [
    {
     "data": {
      "text/plain": [
       "30-Jul-14    56\n",
       "7-Jul-14     45\n",
       "9-Sep-14     40\n",
       "18-Aug-14    39\n",
       "18-Jul-14    37\n",
       "5-Aug-14     35\n",
       "9-Jun-14     35\n",
       "4-Aug-14     34\n",
       "22-Jul-14    33\n",
       "27-Aug-14    33\n",
       "Name: ANOV Issue Date, dtype: int64"
      ]
     },
     "execution_count": 24,
     "metadata": {},
     "output_type": "execute_result"
    }
   ],
   "source": [
    "#Top Ten Days of Violation\n",
    "df['ANOV Issue Date'].value_counts().head(10)"
   ]
  },
  {
   "cell_type": "code",
   "execution_count": 25,
   "metadata": {
    "collapsed": true
   },
   "outputs": [],
   "source": [
    "#some more cleaning\n",
    "df['Violation'] = df['Violation'].replace('9-52-020    Riding bicycles on sidewalks and certain roadway', 'Riding bicycles on sidewalks and certain roadway')\n",
    "df['Violation'] = df['Violation'].replace('9-52-021  Riding bicycle on sidewalks on North Sheridan Road', 'Riding bicycle on sidewalks on North Sheridan Road')\n",
    "df['Violation'] = df['Violation'].replace('9-52-110(b)  Use of communication devices while operating a', 'Use of communication devices')\n"
   ]
  },
  {
   "cell_type": "code",
   "execution_count": 26,
   "metadata": {},
   "outputs": [
    {
     "data": {
      "text/plain": [
       "Riding bicycles on sidewalks and certain roadway         14260\n",
       "Rights and duties.                                         938\n",
       "Headlamps                                                  476\n",
       "Yielding right-of-way.                                     147\n",
       "Use of communication devices                               126\n",
       "Riding in single file required--Exceptions.                 56\n",
       "Riding bicycle on sidewalks on North Sheridan Road          45\n",
       "Speed of bicycles.                                          29\n",
       "PCS - POSSESSION - POSS AMT CON SUB EXCEPT (A)(D)           28\n",
       "ISSUANCE OF WARRANT                                         25\n",
       "RIDING BICYCLE ON SIDEWALK                                  19\n",
       "Parents or legal guardians responsibility.                  14\n",
       "Riding regulations.                                         14\n",
       "Carrying articles on bicycles.                              14\n",
       "Parking.                                                    14\n",
       "CANNABIS - POSSESS 2.5-10 GRMS                               8\n",
       "CANNABIS - POSSESS LESS THAN 2.5 GRMS                        7\n",
       "FAILURE TO APPEAR IN COURT                                   5\n",
       "Bicycle dealers.                                             4\n",
       "OBSTRUCTING IDENTIFICATION                                   4\n",
       "BICYCLE OBEY TRAFFIC CONTROL DEVICES                         3\n",
       "RECKLESS CONDUCT                                             3\n",
       "UUW - WEAPON - FELON, POSSESS/USE FIREARM                    3\n",
       "HEADLAMPS, REFLECTORS AND BRAKES                             2\n",
       "DRIVING ON SUSPENDED LICENSE                                 2\n",
       "CANNABIS - POSSESS 10-30 GRMS                                2\n",
       "Bicycle operating and safety violat                          2\n",
       "ASSAULT - SIMPLE                                             2\n",
       "STREETGANG CONTACT/PAROLE                                    2\n",
       "THEFT LOST/MISLAID/PROP/<$500                                2\n",
       "DRVG UNDER INFLU OF ALCOHOL                                  1\n",
       "AGG UUW/PERSON/<21                                           1\n",
       "DISORD CONDUCT/FALSE REPORT/INS                              1\n",
       "POSS CANNABIS/30-500 GRAM/SUBQ                               1\n",
       "PCS - POSSESS 15<100 GRAMS HEROIN                            1\n",
       "AGG ASLT/POLICE/SHERIFF EMP                                  1\n",
       "PCS - POSSESSION - 15+GRMS - HEROIN                          1\n",
       "REPLICA FIREARMS/PELLET GUNS                                 1\n",
       "IVC - DRIVING UNDER INFLUENCE OF ALCOHOL                     1\n",
       "FELONY DRIVING WHILE LICENSE SUSPENDED OR REVOKED (2)        1\n",
       "AGG ASSAULT PC OFFICER/VOLUNTEER                             1\n",
       "FIREARM W/O VALID FOID/ELIG                                  1\n",
       "OBSTRUCTION OF TRAFFIC BY MOTORIST                           1\n",
       "SYNTHETIC MARIJUANA                                          1\n",
       "UUW -  WEAPON - POSSESS/CARRY /CONCEAL WEAPON                1\n",
       "FUGITIVE FROM JUSTICE - OUT OF STATE WARRANT                 1\n",
       "PCS - POSSESSION - LESS THAN 15 GRMS - COCAINE               1\n",
       "Name: Violation, dtype: int64"
      ]
     },
     "execution_count": 26,
     "metadata": {},
     "output_type": "execute_result"
    }
   ],
   "source": [
    "#Top 5 Types of Violation\n",
    "df['Violation'].value_counts()"
   ]
  },
  {
   "cell_type": "code",
   "execution_count": 27,
   "metadata": {},
   "outputs": [
    {
     "data": {
      "text/plain": [
       "<matplotlib.axes._subplots.AxesSubplot at 0x107b59320>"
      ]
     },
     "execution_count": 27,
     "metadata": {},
     "output_type": "execute_result"
    },
    {
     "data": {
      "image/png": "[encoded data removed]",
      "text/plain": [
       "<matplotlib.figure.Figure at 0x1076455c0>"
      ]
     },
     "metadata": {},
     "output_type": "display_data"
    }
   ],
   "source": [
    "#Top 5 Types of Violation (printed)\n",
    "df['Violation'].value_counts(ascending=True).tail(5).plot(kind='barh')"
   ]
  },
  {
   "cell_type": "code",
   "execution_count": 28,
   "metadata": {},
   "outputs": [
    {
     "data": {
      "text/plain": [
       "CHICAGO     502\n",
       "ASHLAND     473\n",
       "MADISON     410\n",
       "MICHIGAN    403\n",
       "63RD ST     309\n",
       "KEDZIE      308\n",
       "PULASKI     299\n",
       "79TH ST     262\n",
       "WESTERN     257\n",
       "HALSTED     236\n",
       "Name: Street Name, dtype: int64"
      ]
     },
     "execution_count": 28,
     "metadata": {},
     "output_type": "execute_result"
    }
   ],
   "source": [
    "#Top Ten Locations of violation\n",
    "df['Street Name'].value_counts().head(10)"
   ]
  },
  {
   "cell_type": "code",
   "execution_count": 29,
   "metadata": {},
   "outputs": [
    {
     "data": {
      "text/plain": [
       "<matplotlib.axes._subplots.AxesSubplot at 0x107ed4c18>"
      ]
     },
     "execution_count": 29,
     "metadata": {},
     "output_type": "execute_result"
    },
    {
     "data": {
      "image/png": "[encoded data removed]",
      "text/plain": [
       "<matplotlib.figure.Figure at 0x107a73a20>"
      ]
     },
     "metadata": {},
     "output_type": "display_data"
    }
   ],
   "source": [
    "#Top Ten locations of violation (printed)\n",
    "df['Street Name'].value_counts(ascending=True).tail(10).plot(kind='barh')"
   ]
  },
  {
   "cell_type": "code",
   "execution_count": 30,
   "metadata": {},
   "outputs": [
    {
     "data": {
      "text/plain": [
       "19    683\n",
       "20    655\n",
       "21    649\n",
       "22    649\n",
       "18    629\n",
       "24    580\n",
       "23    573\n",
       "25    516\n",
       "26    459\n",
       "28    427\n",
       "Name: Age, dtype: int64"
      ]
     },
     "execution_count": 30,
     "metadata": {},
     "output_type": "execute_result"
    }
   ],
   "source": [
    "#Top Ten age of violators \n",
    "df['Age'].value_counts().head(10)"
   ]
  },
  {
   "cell_type": "code",
   "execution_count": 31,
   "metadata": {},
   "outputs": [
    {
     "data": {
      "text/plain": [
       "<matplotlib.axes._subplots.AxesSubplot at 0x10855c128>"
      ]
     },
     "execution_count": 31,
     "metadata": {},
     "output_type": "execute_result"
    },
    {
     "data": {
      "image/png": "[encoded data removed]",
      "text/plain": [
       "<matplotlib.figure.Figure at 0x10831e8d0>"
      ]
     },
     "metadata": {},
     "output_type": "display_data"
    }
   ],
   "source": [
    "#Top Ten age of violators (printed)\n",
    "df['Age'].value_counts(ascending=True).tail(10).plot(kind='barh')"
   ]
  }
 ],
 "metadata": {
  "kernelspec": {
   "display_name": "Python 3",
   "language": "python",
   "name": "python3"
  },
  "language_info": {
   "codemirror_mode": {
    "name": "ipython",
    "version": 3
   },
   "file_extension": ".py",
   "mimetype": "text/x-python",
   "name": "python",
   "nbconvert_exporter": "python",
   "pygments_lexer": "ipython3",
   "version": "3.6.1"
  }
 },
 "nbformat": 4,
 "nbformat_minor": 2
}
